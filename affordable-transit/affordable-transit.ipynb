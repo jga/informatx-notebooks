{
 "cells": [
  {
   "cell_type": "markdown",
   "metadata": {},
   "source": [
    "# Affordable Transit"
   ]
  },
  {
   "cell_type": "markdown",
   "metadata": {},
   "source": [
    "## Overview\n",
    "\n",
    "Public spending on transit increases community affordability by reducing overall household transportation costs as households reduce car utilization. In this \"notebook\" we highlight this pattern by examining data compiled by the Center for Neighborhood Technology as part of their Housing and Transportation Affordability Index.\n",
    "\n",
    "## Setting up our notebook\n",
    "\n",
    "Before we get to doing any actual work with data, we have to import the packaged libraries of code that we will use to conduct our analysis. Using already-existing libraries dramatically cuts down on the amount of code one has to write.\n",
    "\n",
    "The Python packages we are using are popular and well-documented; they will allows us to efficiently read, organize, and manipulate CSV data, as well as run statistical functions and visualize results.\n",
    "\n",
    "We also configure our plotting library to ensure user-friendly visualizations."
   ]
  },
  {
   "cell_type": "code",
   "execution_count": null,
   "metadata": {},
   "outputs": [],
   "source": [
    "import pandas as pd\n",
    "from numpy.polynomial.polynomial import polyfit\n",
    "import matplotlib.pyplot as plt\n",
    "import matplotlib.ticker as ticker\n",
    "import statsmodels.api as sm\n",
    "import warnings\n",
    "warnings.filterwarnings('ignore')"
   ]
  },
  {
   "cell_type": "code",
   "execution_count": null,
   "metadata": {},
   "outputs": [],
   "source": [
    "plt.rcParams['figure.figsize'] = [4.25, 4.25]\n",
    "plt.rcParams['figure.dpi'] = 150\n",
    "plt.rcParams['font.size'] = 5\n",
    "plt.rcParams['lines.markersize'] = 3"
   ]
  },
  {
   "cell_type": "markdown",
   "metadata": {},
   "source": [
    "# Loading and preparing data\n",
    "\n",
    "We load a CSV file that includes CNT's H+T data for all communities above 150,000 in population. The author selected this threshold as a cutoff for cities that are (1) sizable enough to afford at least basic transit infrastructure and (2) have a diversity of land use patterns that makes them comparable to Austin, Texas. This produces a set of 164 cities. In addition, the author creates a set of cities with populations over 500,000. This set of 32 \"big\" cities are more representative of the communities that are often held up as peers and competitors to Austin.  "
   ]
  },
  {
   "cell_type": "code",
   "execution_count": null,
   "metadata": {},
   "outputs": [],
   "source": [
    "df = pd.read_csv('data/htacities.csv')"
   ]
  },
  {
   "cell_type": "code",
   "execution_count": null,
   "metadata": {},
   "outputs": [],
   "source": [
    "# count of cities\n",
    "len(df)"
   ]
  },
  {
   "cell_type": "code",
   "execution_count": null,
   "metadata": {},
   "outputs": [],
   "source": [
    "big_city_df = df[df['population'] > 500000]"
   ]
  },
  {
   "cell_type": "code",
   "execution_count": null,
   "metadata": {},
   "outputs": [],
   "source": [
    "# count of big cities \n",
    "len(big_city_df)"
   ]
  },
  {
   "cell_type": "code",
   "execution_count": null,
   "metadata": {},
   "outputs": [],
   "source": [
    "# this function helps determine if a city is above or below a trendline\n",
    "def assign_above_trend(row, intercept, coeff, median, y_col):\n",
    "    x = row['pct_transit_commuters_ami']\n",
    "    line_level = (x * coeff) + intercept\n",
    "    if row[y_col] > line_level and x < median:\n",
    "        return 1\n",
    "    else:\n",
    "        return 0"
   ]
  },
  {
   "cell_type": "code",
   "execution_count": null,
   "metadata": {},
   "outputs": [],
   "source": [
    "# this function generates a scatter plot; it wraps matplotlib to create a consistent user-friendly look\n",
    "def show_scatter(df, title='Total Transportation Cost', x_col='pct_transit_commuters_ami', y_col='t_cost_ami', \n",
    "                 xylabels=(\"Transit Commute Percent for Typical Household\", \"Dollars\"), terse=True, y_dollars=True):\n",
    "    correlation = df[[x_col, y_col]].corr().iloc[0, 1]\n",
    "    intercept, coeff = polyfit(df[x_col], df[y_col], 1)\n",
    "    if terse:\n",
    "        trendline = 'y={0:.0f}x + {1:.0f}'.format(coeff, intercept)\n",
    "    else: \n",
    "        trendline = 'y={0:.2f}x + {1:.2f}'.format(coeff, intercept)\n",
    "    x_median = df[x_col].median()\n",
    "    df['above_trend'] = df.apply(assign_above_trend, args=(intercept, coeff, x_median, y_col), axis=1)\n",
    "    above_df = df[df['above_trend'] == 1]\n",
    "    not_above_df = df[df['above_trend'] == 0]\n",
    "    austin_df = df[df['name'].str.contains('Austin')]\n",
    "    austin_df[['t_cost_ami', 'auto_ownership_cost_ami']]\n",
    "    plt.plot(austin_df[x_col], austin_df[y_col], '8', color='gold', markersize=4)\n",
    "    plt.plot(above_df[x_col], above_df[y_col], '.', color='red')\n",
    "    plt.plot(not_above_df[x_col], not_above_df[y_col], '.', color='gray')\n",
    "    plt.plot(df[x_col], intercept + (coeff * df[x_col]), '-', color='black', alpha=0.25, lw=0.5)\n",
    "    plt.title(title)\n",
    "    plt.xlabel(xylabels[0])\n",
    "    plt.ylabel(xylabels[1])\n",
    "    ax = plt.gca()\n",
    "    if y_dollars:\n",
    "        ax.yaxis.set_major_formatter(ticker.StrMethodFormatter('${x:,.0f}'))\n",
    "    else:\n",
    "        ax.yaxis.set_major_formatter(ticker.StrMethodFormatter('{x:,.2f}'))\n",
    "    ax.xaxis.set_major_formatter(ticker.StrMethodFormatter('{x:.0f}%'))\n",
    "    plt.text(0.6, 0.9, s='Pearson correlation: {:.2f}'.format(correlation), transform=ax.transAxes)\n",
    "    plt.text(0.6, 0.86, s='Least squares fit: {}'.format(trendline), transform=ax.transAxes)\n",
    "    plt.show()\n",
    "    return (above_df, not_above_df)"
   ]
  },
  {
   "cell_type": "markdown",
   "metadata": {},
   "source": [
    "## Analysis and visualization\n",
    "\n",
    "How does transit mode share impact affordability?\n",
    "\n",
    "In the charts below, we compare how transit commuting relates to auto ownership costs and total transportation costs. As expected, the overall pattern is that communities with greater transit use have lower costs, though there are outliers. A reduction in total auto ownership per household is one source of cost reduction for households. \n",
    "\n",
    "In all of these visualizations, the red data points are communities that are below median on transit use and above the least squares fit \"trendline\". Austin is the data point with a yellow border."
   ]
  },
  {
   "cell_type": "code",
   "execution_count": null,
   "metadata": {},
   "outputs": [],
   "source": [
    "# austin transportation costs\n",
    "austin_df = df[df['name'].str.contains('Austin')]\n",
    "austin_df[['t_cost_ami', 'auto_ownership_cost_ami', 'vmt_cost_ami', 'transit_cost_ami']]"
   ]
  },
  {
   "cell_type": "code",
   "execution_count": null,
   "metadata": {},
   "outputs": [],
   "source": [
    "a, b = show_scatter(df, 'Total Auto Ownership Cost', y_col='auto_ownership_cost_ami')"
   ]
  },
  {
   "cell_type": "code",
   "execution_count": null,
   "metadata": {},
   "outputs": [],
   "source": [
    "# cities with low auto ownership costs\n",
    "low_auto_cost = df[['name', 'auto_ownership_cost_ami', 'pct_transit_commuters_ami']]\n",
    "low_auto_cost = low_auto_cost.sort_values(['auto_ownership_cost_ami'])\n",
    "low_auto_cost.head(20)"
   ]
  },
  {
   "cell_type": "code",
   "execution_count": null,
   "metadata": {},
   "outputs": [],
   "source": [
    "a, b = show_scatter(df, 'Total Auto Driving Cost', y_col='vmt_cost_ami')"
   ]
  },
  {
   "cell_type": "code",
   "execution_count": null,
   "metadata": {},
   "outputs": [],
   "source": [
    "a, b = show_scatter(df, 'Total Transit Cost', y_col='transit_cost_ami')"
   ]
  },
  {
   "cell_type": "code",
   "execution_count": null,
   "metadata": {},
   "outputs": [],
   "source": [
    "a, b = show_scatter(df)"
   ]
  },
  {
   "cell_type": "code",
   "execution_count": null,
   "metadata": {},
   "outputs": [],
   "source": [
    "# cities with low transportation costs\n",
    "low_t_cost = df[['name', 't_cost_ami', 'pct_transit_commuters_ami']]\n",
    "low_t_cost = low_t_cost.sort_values(['t_cost_ami'])\n",
    "low_t_cost.head(20)"
   ]
  },
  {
   "cell_type": "code",
   "execution_count": null,
   "metadata": {},
   "outputs": [],
   "source": [
    "above_df, not_above = show_scatter(big_city_df, 'Total Big City Transportation Cost')"
   ]
  },
  {
   "cell_type": "code",
   "execution_count": null,
   "metadata": {},
   "outputs": [],
   "source": [
    "# big cities with above trendline costs and below median transit\n",
    "above_df[['name', 't_cost_ami', 'pct_transit_commuters_ami']].sort_values(['t_cost_ami']).head(20)"
   ]
  },
  {
   "cell_type": "code",
   "execution_count": null,
   "metadata": {},
   "outputs": [],
   "source": [
    "# big cities ranked by lowest total transportation costs\n",
    "bc_t_cost = big_city_df[['name', 't_cost_ami', 'pct_transit_commuters_ami']]\n",
    "bc_t_cost = bc_t_cost.sort_values(['t_cost_ami'])\n",
    "bc_t_cost.head(len(bc_t_cost))"
   ]
  },
  {
   "cell_type": "code",
   "execution_count": null,
   "metadata": {},
   "outputs": [],
   "source": [
    "hh_auto_a, hh_auto_b = show_scatter(big_city_df, 'Autos per Typical Household', y_col='autos_per_hh_ami', xylabels=(\"Percent Transit Commuters\", \"Autos\"), terse=False, y_dollars=False)"
   ]
  },
  {
   "cell_type": "code",
   "execution_count": null,
   "metadata": {},
   "outputs": [],
   "source": [
    "# big cities with high autos per household\n",
    "hh_auto_a[['name', 'autos_per_hh_ami']]"
   ]
  },
  {
   "cell_type": "code",
   "execution_count": null,
   "metadata": {},
   "outputs": [],
   "source": [
    "# bonus: a regression taking into consideration local housing costs\n",
    "model = sm.OLS(df['t_cost_ami'], \n",
    "               sm.add_constant(df[['pct_transit_commuters_ami', 'median_gross_rent']]))\n",
    "results = model.fit()\n",
    "summary = results.summary()\n",
    "print(summary.tables[0])\n",
    "print(summary.tables[1])"
   ]
  }
 ],
 "metadata": {
  "kernelspec": {
   "display_name": "Python 3",
   "language": "python",
   "name": "python3"
  },
  "language_info": {
   "codemirror_mode": {
    "name": "ipython",
    "version": 3
   },
   "file_extension": ".py",
   "mimetype": "text/x-python",
   "name": "python",
   "nbconvert_exporter": "python",
   "pygments_lexer": "ipython3",
   "version": "3.6.9"
  }
 },
 "nbformat": 4,
 "nbformat_minor": 4
}
